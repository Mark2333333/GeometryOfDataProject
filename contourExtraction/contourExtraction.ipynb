{
 "cells": [
  {
   "cell_type": "code",
   "execution_count": null,
   "metadata": {},
   "outputs": [],
   "source": [
    "form contour_extract import process_dataset"
   ]
  },
  {
   "cell_type": "code",
   "execution_count": null,
   "metadata": {},
   "outputs": [],
   "source": [
    "import zipfile\n",
    "import os\n",
    "from keras.preprocessing import image_dataset_from_directory\n",
    "\n",
    "#Loading the dataset\n",
    "# Mount Google Drive\n",
    "from google.colab import drive\n",
    "drive.mount('/content/drive')\n",
    "\n",
    "zip_path = '/content/drive/MyDrive/leaves_dataset/leaves.zip'\n",
    "# Extract the zip file\n",
    "with zipfile.ZipFile(zip_path, 'r') as zip_ref:\n",
    "    zip_ref.extractall('/content/')"
   ]
  },
  {
   "cell_type": "code",
   "execution_count": null,
   "metadata": {},
   "outputs": [],
   "source": [
    "# convert TIFF images to JPEG\n",
    "from PIL import Image\n",
    "\n",
    "def convert_tiff_to_jpeg(source_dir, target_dir):\n",
    "    for subdir, dirs, files in os.walk(source_dir):\n",
    "        for dir_name in dirs:\n",
    "            # Create the same structure in target_dir\n",
    "            os.makedirs(os.path.join(target_dir, dir_name), exist_ok=True)\n",
    "\n",
    "        for file in files:\n",
    "            if file.lower().endswith(\".tif\") or file.lower().endswith(\".tiff\"):\n",
    "                # Full path of the source file\n",
    "                filepath = os.path.join(subdir, file)\n",
    "                # Relative path of the source file\n",
    "                relative_path = os.path.relpath(filepath, source_dir)\n",
    "                # Full path for the target file, replacing the extension with .jpg\n",
    "                target_filepath = os.path.join(target_dir, os.path.splitext(relative_path)[0] + \".jpg\")\n",
    "\n",
    "                img = Image.open(filepath)\n",
    "                img.convert('RGB').save(target_filepath, \"JPEG\")\n",
    "\n",
    "source_dir = '/content/Leaf_Dataset'\n",
    "target_dir = '/content/Converted2_Leaf_Dataset'\n",
    "convert_tiff_to_jpeg(source_dir, target_dir)"
   ]
  },
  {
   "cell_type": "code",
   "execution_count": null,
   "metadata": {},
   "outputs": [],
   "source": [
    "import tensorflow as tf\n",
    "# Load the dataset\n",
    "data_dir = '/content/Converted2_Leaf_Dataset'\n",
    "dataset = image_dataset_from_directory(data_dir)"
   ]
  },
  {
   "cell_type": "code",
   "execution_count": null,
   "metadata": {},
   "outputs": [],
   "source": [
    "data_dir = '/content/Converted2_Leaf_Dataset'\n",
    "process_dataset(data_dir)"
   ]
  }
 ],
 "metadata": {
  "language_info": {
   "name": "python"
  }
 },
 "nbformat": 4,
 "nbformat_minor": 2
}
